{
  "nbformat": 4,
  "nbformat_minor": 0,
  "metadata": {
    "kernelspec": {
      "display_name": "Python 3",
      "language": "python",
      "name": "python3"
    },
    "language_info": {
      "codemirror_mode": {
        "name": "ipython",
        "version": 3
      },
      "file_extension": ".py",
      "mimetype": "text/x-python",
      "name": "python",
      "nbconvert_exporter": "python",
      "pygments_lexer": "ipython3",
      "version": "3.5.4"
    },
    "toc": {
      "base_numbering": 1,
      "nav_menu": {},
      "number_sections": true,
      "sideBar": true,
      "skip_h1_title": false,
      "title_cell": "Table of Contents",
      "title_sidebar": "Contents",
      "toc_cell": false,
      "toc_position": {},
      "toc_section_display": true,
      "toc_window_display": false
    },
    "colab": {
      "name": "A1_ReportDraft_13176096_Faisal Nabi.ipynb",
      "version": "0.3.2",
      "provenance": [],
      "include_colab_link": true
    }
  },
  "cells": [
    {
      "cell_type": "markdown",
      "metadata": {
        "id": "view-in-github",
        "colab_type": "text"
      },
      "source": [
        "<a href=\"https://colab.research.google.com/github/Faisal-Nabi/UTS_ML2019_ID13176096/blob/master/A1_ReportDraft_13176096_Faisal_Nabi.ipynb\" target=\"_parent\"><img src=\"https://colab.research.google.com/assets/colab-badge.svg\" alt=\"Open In Colab\"/></a>"
      ]
    },
    {
      "cell_type": "markdown",
      "metadata": {
        "id": "Irahkfhzu4fA",
        "colab_type": "text"
      },
      "source": [
        "# Draft and Experiment Area"
      ]
    },
    {
      "cell_type": "markdown",
      "metadata": {
        "id": "n9-o-QKvu4fC",
        "colab_type": "text"
      },
      "source": [
        "After reading the abstract of different papers, I chose Eigenfaces vs Fisherfaces: Recognition Using Class Specific Linear Projection. The reason was that it was easy to understand and follow through. The paper is well written, which made it easy for me to get the main idea. Also, I've some experience in face recognization, so I want to refresh my understanding and concept that's why I went for this paper.\n",
        "\n",
        "A face recognition is a system in which a computer uses different facial algorithm to identify the face from the image. The facial algorthrms are not always accurate due to variation in lighting, facial expersion, the angle between face and camera,wearning glasses and changing hairstyles. These all factor cause facial algorithm to not work well.\n",
        "Fisher face is invented for this paper\n",
        "\n",
        "This paper has two goals:\n",
        "1.\tDevelop a facial recognition algorithm (Fisherface) that is insensitive to lighting variations and facial expersion.’\n",
        "2.\tCompare this algorithm accuracy and run time to other currently known facial recognition algorithms.\n",
        "Correlation is not good in varation in lighting. It is computatainal expesnive. If you want to make it accurate you need to feed the learning set with lighting images.It require large amount of storage.\n",
        "\n",
        "The eigne faces uses deminosanlity reduction metod.\n"
      ]
    },
    {
      "cell_type": "markdown",
      "metadata": {
        "id": "HKdz5cgIu4fD",
        "colab_type": "text"
      },
      "source": [
        "# Review Report on \"Eigenfaces vs. Fisherfaces: Recognition Using Class Specific Linear Projection\"\n",
        "\""
      ]
    },
    {
      "cell_type": "markdown",
      "metadata": {
        "id": "tYdIkIVhu4fD",
        "colab_type": "text"
      },
      "source": [
        "## Introduction\n",
        "This report explains the paper **\" Eigenfaces vs Fisherfaces: Recognition Using Class Specific Linear Projection\"**. It consists of content, innovation, technical quality, Application and X-Factor, and lastly presentation."
      ]
    },
    {
      "cell_type": "markdown",
      "metadata": {
        "id": "o4UvcfWlu4fE",
        "colab_type": "text"
      },
      "source": [
        "## Content"
      ]
    },
    {
      "cell_type": "markdown",
      "metadata": {
        "id": "KNOMttqhu4fF",
        "colab_type": "text"
      },
      "source": [
        "The paper outline a new algorithm/approach called fisher face which is insensitive to varaitations in lighting and facial expersion. The same person can appear different if the lighintg is thrown from different view point on the face as shown in the figure 1. \n",
        "\n",
        "![alt text](https://www.urj.ucf.edu/vol6issue1/liang/images/figure-2.png)\n",
        "\n",
        "The main challenge of a facial algorithm is to be insensitive to variation in lighting, facial expression, the angle between face and camera, wearing glasses, and daily changing styles. The variation in light not only means the intensity but also the number of sources and the direction of light coming on the facial image. These all factor cause the facial algorithm not to work well. The goal of the paper is to develop an algorithm called fisher face, which is insensitive to facial expression and lighting variation. Also, to compare fisher face accuracy and run time to other facial algorithms, for example, correlation, Eigenfaces, and linear Subspace. The results are also provided in the paper to show the accuracy of the algorithms.\n",
        "\n",
        "The fisher face is insentivative to this scenario. Fisher face algorithm is the derviative of Linear discriminant analysis (FLDA) for dimensionality reduction. It also uses Lambertian surfaces the same as linear spaces. It recognizes that each class lies in a linear subspace of the image space.It can perform dimensionality reduction while preserving the linear separability and uses linear discriminant while producing well-separated classes in a low-dimensional subspace, even under variation in lighting and different facial expression. The advantage of using fisher face is that it achieves greater between-class scatter than PCA. Also, fisher face uses less memory compare to other facial algorithms and it is more accurate than correlation and Eigen faces.\n",
        "\n",
        "\n"
      ]
    },
    {
      "cell_type": "markdown",
      "metadata": {
        "id": "DBZ9Kimcu4fG",
        "colab_type": "text"
      },
      "source": [
        "## Innovation"
      ]
    },
    {
      "cell_type": "markdown",
      "metadata": {
        "id": "bQP1GMofu4fH",
        "colab_type": "text"
      },
      "source": [
        "The paper introduces a new algorithm in facial recognition, which is named as “Fisher face,” which is insensitive to variation in lighting and facial expression. Before the paper, there were different facial algorithms which were vastly used to identify the face in the image, such as correlation, Eigenfaces, Linear Subspace, but they were sensitive to lighting and facial expression. The closet facial algorithm which solves this problem was linear subspaces, but the accuracy of this facial model was not good in term of facial expression. Moreover, it is computationally expensive, and it is memory sensitive. On the other hand, the fisher face algorithm solved this problem. It was the innovation in this paper, which is insensitive to lighting and facial expressions. As the learning set is labeled, they, build a model which reduced the dimensionality of feature space. The paper also compared the serval facial recognition algorithm to check the accuracy and error rate of fisher face with other algorithms. There were two experiments performed. The first experiment used variation lighting, and the second used both variation lighting and facial expressions. Each of the experiment compared all four algorithms to check which one is best in certain conditions.\n",
        "\n",
        "![alt text](https://www.researchgate.net/profile/Deepali_Shah2/publication/321575163/figure/download/fig2/AS:568460474150918@1512542946573/The-same-person-seen-under-varying-light-conditions-can-appear-dramatically.png)\n",
        "\n",
        "In the first experiment, there were five different people, and each of them had 66 photos from different lights. It was broken into five different subsets, and each had different light variation. The result showed that the fisher face and linear subspace did pretty well while correlation and Eigenfaces were poor as there was variation in lighting.\n",
        "\n",
        "\n",
        "\n",
        "In the second experiment, there was variation in lighting and facial expression. It was tested on full headshots and cropped faces with different pictures with different lighting and facial expressions. They used the “leave-one-out” method with which there were 16 photos, and they took one photo out which was test photo then all the other are in learning test. The fisher faces had better results when there was a different facial expression in the image.\n"
      ]
    },
    {
      "cell_type": "markdown",
      "metadata": {
        "id": "ETlS9jCAu4fH",
        "colab_type": "text"
      },
      "source": [
        "## Technical quality"
      ]
    },
    {
      "cell_type": "markdown",
      "metadata": {
        "id": "yMNNcfzZu4fI",
        "colab_type": "text"
      },
      "source": [
        "The technical quality of the paper is high, but there are some gap holes. The author’s backed their findings with proper equations and method. The experiments proved their algorithm was better under different circumstances and gave better performance. However, there was no proof of testing the algorithm on a large database which is essential the case because in real-world, the database consists of a large amount of data. On the other hand, the data was already labeled, which in real-world is difficult and expensive to obtain **(Huang et al. 2012)**. This method won’t work well on unlabelled data. \n",
        "\n",
        "The paper was well constructed with backed prove of numbers. The experiments were done in detail to give the best accuracy and error rate. However, the experiment was done on a few people. They used 66 images of 5 people to check the performance level of their algorithm. It would be better if they have done the experiment on a large number of people to verify the accuracy of the algorithm. In the paper, they performed extrapolating technique on the subsets of the image. They trained the model on subset 1 and tested it on the subset 1, 2 and 3 but generally, the model should only be tested on subset 2 and 3. It is obvious that the error will be 0 perc if they trained and tested it on the same subset. Overall, the paper was highly technical as this paper was cited 16633 on google scholar.\n",
        "\n"
      ]
    },
    {
      "cell_type": "markdown",
      "metadata": {
        "id": "3byM7dGtu4fI",
        "colab_type": "text"
      },
      "source": [
        "## Application and X-factor"
      ]
    },
    {
      "cell_type": "markdown",
      "metadata": {
        "id": "Za3_ksWIu4fJ",
        "colab_type": "text"
      },
      "source": [
        "The proposal in the paper was of high quality. The fisher face algorithm is applied in computer vision and face recognition. Facial recognition is being used in forensics i.e., criminal identification, security access, and more. As of today, most of the mobile and applications give facial lock access; this model is applied in these applications as well.\n",
        "\n",
        "In the paper, face dedication methods will not work well in extreme conditions, so in the future new approaches are needed to help the facial algorithm to detect the face in extreme lighting conditions. When the shadowing increases the performance of the algorithm decrease, which makes the facial algorithm not suitable for intense shadowing, future research could be done to solve this problem.\n",
        "\n",
        "The work and experiment done in this paper could be a great topic to discuss on because facial recognization is vastly used in all the domains. Personally, the reason for choosing this paper was to get an understanding of the facial algorithm so that I can apply this knowledge in my final semester project. I want to work on facial recognization, so reading this paper gave me the idea and concept to better understand facial recognition field."
      ]
    },
    {
      "cell_type": "markdown",
      "metadata": {
        "id": "6eXukbwBu4fK",
        "colab_type": "text"
      },
      "source": [
        "## Presentation"
      ]
    },
    {
      "cell_type": "markdown",
      "metadata": {
        "id": "jwvdW0GTu4fK",
        "colab_type": "text"
      },
      "source": [
        "The presentation quality of the paper is high. The argument was presented clearly with proper evidence. It was easy to understand the concept with proper images and facts.The methods were described in-depth with mathematical equations. The experiment to check different algorithm performance was easy to follow as and well constructed. Proper labels and figures are used, which makes it easy to understand the overall idea behind the paper. The problem statement was clearly defined, and the solution is provided. The parameter was changed to check the algorithm performance level. The comparison between different facial algorithms was clear and understandable. All the facial algorithm had some flaws, which were shown through the experiments, and the proposed solution was presented to solve the lighting variation and facial expression problem.The overall strucutre is clear. I found reading is easy / difficult. The paper could have been more attractive if the authors had organised ... / provided ... "
      ]
    },
    {
      "cell_type": "markdown",
      "metadata": {
        "id": "f0UF4uIru4fL",
        "colab_type": "text"
      },
      "source": [
        "## References\n",
        "Shan, S., et al. (2002). \"Extended Fisherface for face recognition from a single example image per person.\" IEEE.\n",
        "\n",
        "HongHuang, et al. (2012). \"Enhanced semi-supervised local Fisher discriminant analysis for face recognition.\" Future Generation Computer Systems 28(1): 244-253.\n",
        "\t"
      ]
    }
  ]
}